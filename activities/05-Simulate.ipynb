{
 "cells": [
  {
   "cell_type": "markdown",
   "metadata": {},
   "source": [
    "# Data simulation\n",
    "\n",
    "This notebook demonstrates synthetic data creation with TomoPy to create sinograms with various types of defects:\n",
    "1. Poisson noise\n",
    "2. Rings\n",
    "3. Zingers\n",
    "4. Illumination drift\n",
    "5. Incorrect center of rotation"
   ]
  },
  {
   "cell_type": "code",
   "execution_count": null,
   "metadata": {},
   "outputs": [],
   "source": [
    "import tomopy\n",
    "import matplotlib.pyplot as plt\n",
    "import numpy as np"
   ]
  },
  {
   "cell_type": "markdown",
   "metadata": {},
   "source": [
    "## Load a built-in object\n",
    "\n",
    "TomoPy comes with 9 images which can be used a phantoms: baboon, barbara, cameraman, checkerboard, lena, peppers, phantom, shepp2d, shepp3d."
   ]
  },
  {
   "cell_type": "code",
   "execution_count": null,
   "metadata": {},
   "outputs": [],
   "source": [
    "obj = tomopy.peppers(size=128)\n",
    "print(obj.shape) # tomopy phantoms are always 3D"
   ]
  },
  {
   "cell_type": "code",
   "execution_count": null,
   "metadata": {},
   "outputs": [],
   "source": [
    "plt.figure(tight_layout=True)\n",
    "plt.imshow(obj[0])\n",
    "plt.xlabel('x')\n",
    "plt.ylabel('y')\n",
    "plt.show()"
   ]
  },
  {
   "cell_type": "markdown",
   "metadata": {},
   "source": [
    "## Sinogram simulation\n",
    "\n",
    "TomoPy can simulate parallel-projection through a grid if given a list of angles."
   ]
  },
  {
   "cell_type": "code",
   "execution_count": null,
   "metadata": {},
   "outputs": [],
   "source": [
    "# provide angles in degrees but recieve radians\n",
    "ang = tomopy.angles(nang=120, ang1=0, ang2=180)\n",
    "print(ang)"
   ]
  },
  {
   "cell_type": "code",
   "execution_count": null,
   "metadata": {},
   "outputs": [],
   "source": [
    "prj = tomopy.project(obj, ang, pad=True)"
   ]
  },
  {
   "cell_type": "code",
   "execution_count": null,
   "metadata": {},
   "outputs": [],
   "source": [
    "print(prj.shape)\n",
    "# Note that the result is padded by default"
   ]
  },
  {
   "cell_type": "code",
   "execution_count": null,
   "metadata": {},
   "outputs": [],
   "source": [
    "print(prj.dtype)\n",
    "# Note that the result a floating-point number instead of integer photon counts"
   ]
  },
  {
   "cell_type": "code",
   "execution_count": null,
   "metadata": {},
   "outputs": [],
   "source": [
    "plt.figure(tight_layout=True)\n",
    "plt.imshow(prj[:, 0, :])\n",
    "plt.xlabel('Detector Pixels (translation)')\n",
    "plt.ylabel('Rotation angles (rotation)')\n",
    "plt.colorbar()\n",
    "plt.show()"
   ]
  },
  {
   "cell_type": "markdown",
   "metadata": {},
   "source": [
    "### Poisson Noise"
   ]
  },
  {
   "cell_type": "code",
   "execution_count": null,
   "metadata": {},
   "outputs": [],
   "source": [
    "prj_poisson = tomopy.add_poisson(prj / 100) * 100"
   ]
  },
  {
   "cell_type": "code",
   "execution_count": null,
   "metadata": {},
   "outputs": [],
   "source": [
    "plt.figure(tight_layout=True)\n",
    "plt.imshow(prj_poisson[:, 0, :])\n",
    "plt.xlabel('Detector Pixels (translation)')\n",
    "plt.ylabel('Rotation angles (rotation)')\n",
    "plt.colorbar()\n",
    "plt.show()"
   ]
  },
  {
   "cell_type": "markdown",
   "metadata": {},
   "source": [
    "### Rings"
   ]
  },
  {
   "cell_type": "code",
   "execution_count": null,
   "metadata": {},
   "outputs": [],
   "source": [
    "def add_rings(tomo, std=0.05):\n",
    "    \"\"\"Add rings.\n",
    "    \n",
    "    Rings are caused by inconsistent pixel sensitivity across the detector.\n",
    "    \n",
    "    The sensitivity of the pixels is modeled as normally distributed with an\n",
    "    average sensitivity of 1 and a standard deviation given.\n",
    "    \n",
    "    \n",
    "    Parameters\n",
    "    ----------\n",
    "    tomo : ndarray\n",
    "        3D tomographic data.\n",
    "    std : float\n",
    "        The standard deviation of the pixel sensitivity\n",
    "\n",
    "    Returns\n",
    "    -------\n",
    "    ndarray\n",
    "        Tomographic data with zingers added.\n",
    "    \"\"\"\n",
    "    new_tomo = np.copy(tomo)\n",
    "    sensitivity = np.random.normal(\n",
    "        loc=1, scale=std,\n",
    "        size=(1, new_tomo.shape[1], new_tomo.shape[2])\n",
    "    )\n",
    "    new_tomo = new_tomo * sensitivity\n",
    "    return new_tomo"
   ]
  },
  {
   "cell_type": "code",
   "execution_count": null,
   "metadata": {},
   "outputs": [],
   "source": [
    "prj_rings = add_rings(prj)"
   ]
  },
  {
   "cell_type": "code",
   "execution_count": null,
   "metadata": {},
   "outputs": [],
   "source": [
    "plt.figure(tight_layout=True)\n",
    "plt.imshow(prj_rings[:, 0, :])\n",
    "plt.xlabel('Detector Pixels (translation)')\n",
    "plt.ylabel('Rotation angles (rotation)')\n",
    "plt.colorbar()\n",
    "plt.show()"
   ]
  },
  {
   "cell_type": "markdown",
   "metadata": {},
   "source": [
    "### Zingers"
   ]
  },
  {
   "cell_type": "code",
   "execution_count": null,
   "metadata": {},
   "outputs": [],
   "source": [
    "def add_zingers(tomo, f=0.01, sat=2**16):\n",
    "    \"\"\"Add zingers.\n",
    "    \n",
    "    Zingers are caused by stray X-rays hitting the detector and causing pixels\n",
    "    to saturate.\n",
    "    \n",
    "    The zingers are uniformly distributed across the data set with the given\n",
    "    frequency.\n",
    "    \n",
    "    Parameters\n",
    "    ----------\n",
    "    tomo : ndarray\n",
    "        3D tomographic data.\n",
    "    f : float\n",
    "        The fraction of measurements that are zingers.\n",
    "    sat : float\n",
    "        The pixel saturation value.\n",
    "\n",
    "    Returns\n",
    "    -------\n",
    "    ndarray\n",
    "        Tomographic data with zingers added.\n",
    "    \"\"\"\n",
    "    zingers = np.random.uniform(0, 1, tomo.shape)\n",
    "    zingers = zingers <= f  # five percent of measurements are zingers\n",
    "    new_tomo = np.copy(tomo)\n",
    "    new_tomo[zingers] = sat\n",
    "    return new_tomo"
   ]
  },
  {
   "cell_type": "code",
   "execution_count": null,
   "metadata": {},
   "outputs": [],
   "source": [
    "prj_zingers = add_zingers(prj, f=0.01, sat=2**13)"
   ]
  },
  {
   "cell_type": "code",
   "execution_count": null,
   "metadata": {
    "scrolled": false
   },
   "outputs": [],
   "source": [
    "plt.figure(tight_layout=True)\n",
    "plt.imshow(prj_zingers[:, 0, :])\n",
    "plt.xlabel('Detector Pixels (translation)')\n",
    "plt.ylabel('Rotation angles (rotation)')\n",
    "plt.colorbar()\n",
    "plt.show()"
   ]
  },
  {
   "cell_type": "markdown",
   "metadata": {},
   "source": [
    "### Illumination drift"
   ]
  },
  {
   "cell_type": "code",
   "execution_count": null,
   "metadata": {},
   "outputs": [],
   "source": [
    "def add_drift(tomo, amp=0.2, period=50, mean=1):\n",
    "    \"\"\"Add illumination drift.\n",
    "    \n",
    "    Illumination drift is caused by the beam instability as the object rotates.\n",
    "    \n",
    "    This drift is modeled using a sinusoid. Which alters the illumination\n",
    "    along the rotation dimension. The vertical dimension is constant.\n",
    "    \n",
    "    Parameters\n",
    "    ----------\n",
    "    tomo : ndarray\n",
    "        3D tomographic data.\n",
    "    amp : float\n",
    "        The amplitude of the drift.\n",
    "    period : float\n",
    "        The period of the drift.\n",
    "\n",
    "    Returns\n",
    "    -------\n",
    "    ndarray\n",
    "        Tomographic data with zingers added.\n",
    "    \"\"\"\n",
    "    new_tomo = np.copy(tomo)\n",
    "    x = np.arange(tomo.shape[0])\n",
    "    drift = amp * np.sin(2 * np.pi / period * x) + mean\n",
    "    drift = drift + np.linspace(0, 1, len(x))\n",
    "    drift = drift[:, np.newaxis, np.newaxis]\n",
    "#     return drift + tomo * 0\n",
    "    return drift * tomo"
   ]
  },
  {
   "cell_type": "code",
   "execution_count": null,
   "metadata": {},
   "outputs": [],
   "source": [
    "prj_drift = add_drift(prj, amp=0.5)"
   ]
  },
  {
   "cell_type": "code",
   "execution_count": null,
   "metadata": {},
   "outputs": [],
   "source": [
    "plt.figure(tight_layout=True)\n",
    "plt.imshow(prj_drift[:, 0, :])\n",
    "plt.xlabel('Detector Pixels (translation)')\n",
    "plt.ylabel('Rotation angles (rotation)')\n",
    "plt.colorbar()\n",
    "plt.show()"
   ]
  },
  {
   "cell_type": "markdown",
   "metadata": {},
   "source": [
    "### Off-center"
   ]
  },
  {
   "cell_type": "code",
   "execution_count": null,
   "metadata": {},
   "outputs": [],
   "source": [
    "prj_center = tomopy.project(obj, ang, pad=True, center=100)\n",
    "print(prj.shape)\n",
    "# Note that the result is padded by default"
   ]
  },
  {
   "cell_type": "code",
   "execution_count": null,
   "metadata": {},
   "outputs": [],
   "source": [
    "plt.figure()\n",
    "plt.imshow(prj_center[:, 0, :])\n",
    "plt.xlabel('Detector Pixels (translation)')\n",
    "plt.ylabel('Rotation angles (rotation)')\n",
    "plt.colorbar()\n",
    "plt.show()"
   ]
  },
  {
   "cell_type": "markdown",
   "metadata": {},
   "source": [
    "## Combine data sets and save to file"
   ]
  },
  {
   "cell_type": "code",
   "execution_count": null,
   "metadata": {},
   "outputs": [],
   "source": [
    "labels = ['ideal', 'poisson', 'zingers', 'rings', 'illumination drift', 'off-center']\n",
    "prj_all = np.concatenate([prj, prj_poisson, prj_zingers, prj_rings, prj_drift, prj_center], axis=1)"
   ]
  },
  {
   "cell_type": "code",
   "execution_count": null,
   "metadata": {},
   "outputs": [],
   "source": [
    "def write_dxfile(fname, data, ang, data_white=None, data_dark=None, sample_description=''):\n",
    "    \"\"\"Store simulated data in data-exchange compliant format.\"\"\"\n",
    "    import dxfile.dxtomo as dx\n",
    "    import os\n",
    "\n",
    "    experimenter_name=\"Daniel Ching\"\n",
    "    experimenter_affiliation=\"Argonne National Laboratory\" \n",
    "    experimenter_email=\"dching@anl.gov\"\n",
    "    instrument_comment=\"TomoPy Simlated Data\"\n",
    "    \n",
    "    theta = ang / np.pi * 180\n",
    "    \n",
    "    if data_white is None:\n",
    "        data_white = np.ones_like(data[0:1, ...])\n",
    "    if data_dark is None:\n",
    "        data_dark = np.zeros_like(data[0:1, ...])\n",
    "    \n",
    "    if (fname != None):\n",
    "        if os.path.isfile(fname):\n",
    "            print(\"Data Exchange file already exists: \", fname)\n",
    "        else:\n",
    "            # Create new folder.\n",
    "            dirPath = os.path.dirname(fname)\n",
    "            if not os.path.exists(dirPath):\n",
    "                os.makedirs(dirPath)\n",
    "\n",
    "            # Open DataExchange file\n",
    "            f = dx.File(fname, mode='w')\n",
    "            \n",
    "            # Write the Data Exchange HDF5 file.\n",
    "            f.add_entry(dx.Entry.experimenter(name={'value':experimenter_name}))\n",
    "            f.add_entry(dx.Entry.experimenter(affiliation={'value':experimenter_affiliation}))\n",
    "            f.add_entry(dx.Entry.experimenter(email={'value':experimenter_email}))\n",
    "            f.add_entry(dx.Entry.instrument(comment={'value': instrument_comment}))\n",
    "            f.add_entry(dx.Entry.sample( description={'value':sample_description}))    \n",
    "\n",
    "            f.add_entry(dx.Entry.data(data={'value': data, 'units':'counts'}))\n",
    "            f.add_entry(dx.Entry.data(data_white={'value': data_white, 'units':'counts'}))\n",
    "            f.add_entry(dx.Entry.data(data_dark={'value': data_dark, 'units':'counts'}))\n",
    "            f.add_entry(dx.Entry.data(theta={'value': theta, 'units':'degrees'}))\n",
    "\n",
    "            f.close()\n",
    "    else:\n",
    "        raise ValueError(\"file name cannot be None\")"
   ]
  },
  {
   "cell_type": "code",
   "execution_count": null,
   "metadata": {},
   "outputs": [],
   "source": [
    "write_dxfile('data/data-simulated.h5', prj_all, ang,\n",
    "            sample_description=\"Simulated data with various distortions.\")"
   ]
  },
  {
   "cell_type": "code",
   "execution_count": null,
   "metadata": {},
   "outputs": [],
   "source": [
    "## Reconstruct"
   ]
  },
  {
   "cell_type": "code",
   "execution_count": null,
   "metadata": {},
   "outputs": [],
   "source": [
    "recon = tomopy.recon(tomo=prj_all, theta=ang, algorithm='gridrec')"
   ]
  },
  {
   "cell_type": "code",
   "execution_count": null,
   "metadata": {
    "scrolled": false
   },
   "outputs": [],
   "source": [
    "for z, label in zip(recon, labels):\n",
    "    plt.figure(dpi=150)\n",
    "    plt.title(label)\n",
    "    plt.imshow(z)"
   ]
  },
  {
   "cell_type": "code",
   "execution_count": null,
   "metadata": {},
   "outputs": [],
   "source": []
  }
 ],
 "metadata": {
  "kernelspec": {
   "display_name": "Python 3",
   "language": "python",
   "name": "python3"
  },
  "language_info": {
   "codemirror_mode": {
    "name": "ipython",
    "version": 3
   },
   "file_extension": ".py",
   "mimetype": "text/x-python",
   "name": "python",
   "nbconvert_exporter": "python",
   "pygments_lexer": "ipython3",
   "version": "3.6.7"
  }
 },
 "nbformat": 4,
 "nbformat_minor": 1
}
