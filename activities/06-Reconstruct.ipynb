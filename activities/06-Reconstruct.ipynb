{
 "cells": [
  {
   "cell_type": "markdown",
   "metadata": {},
   "source": [
    "# Data import\n",
    "\n",
    "Common tomography data formats are imported through [DXchange](http://dxchange.readthedocs.org/en/latest/source/api/dxchange.exchange.html) (available through Conda):\n"
   ]
  },
  {
   "cell_type": "code",
   "execution_count": null,
   "metadata": {},
   "outputs": [],
   "source": [
    "import dxchange as dx"
   ]
  },
  {
   "cell_type": "code",
   "execution_count": null,
   "metadata": {},
   "outputs": [],
   "source": [
    "# Load data from the file we created with the previous notebook\n",
    "prj, flat, dark, ang = dx.read_aps_32id('data/data-simulated.h5')"
   ]
  },
  {
   "cell_type": "markdown",
   "metadata": {},
   "source": [
    "# Tomographic image reconstruction\n",
    "\n",
    "TomoPy implements a variety of algorithms which fall into two main categories: direct and iterative methods.\n",
    "\n",
    "## Direct reconstruction algorithms\n",
    "\n",
    "* Filtered-Backprojection with interpolation on Fourier space (Gridrec)\n",
    "* Filtered-Backprojection with interpolation on real space (FBP)"
   ]
  },
  {
   "cell_type": "code",
   "execution_count": null,
   "metadata": {},
   "outputs": [],
   "source": [
    "import tomopy\n",
    "import matplotlib.pyplot as plt\n",
    "\n",
    "# Make a dictionary to store all of the different reconstructions.\n",
    "rec = dict()"
   ]
  },
  {
   "cell_type": "code",
   "execution_count": null,
   "metadata": {},
   "outputs": [],
   "source": [
    "# Required parametes are the projection data and the relative angles of at which each projection was collected.\n",
    "rec['gridrec'] = tomopy.recon(tomo=prj, theta=ang, algorithm='gridrec')"
   ]
  },
  {
   "cell_type": "code",
   "execution_count": null,
   "metadata": {},
   "outputs": [],
   "source": [
    "plt.figure()\n",
    "plt.imshow(rec['gridrec'][0])\n",
    "plt.xlabel('x')\n",
    "plt.ylabel('y')\n",
    "plt.show()"
   ]
  },
  {
   "cell_type": "markdown",
   "metadata": {},
   "source": [
    "Using optional parameters, can define the shape of the final image reconstruction:"
   ]
  },
  {
   "cell_type": "code",
   "execution_count": null,
   "metadata": {},
   "outputs": [],
   "source": [
    "rec['gridrec'] = tomopy.recon(prj, ang, algorithm='gridrec', num_gridx=128, num_gridy=128)"
   ]
  },
  {
   "cell_type": "code",
   "execution_count": null,
   "metadata": {},
   "outputs": [],
   "source": [
    "plt.figure()\n",
    "plt.imshow(rec['gridrec'][0])\n",
    "plt.xlabel('x')\n",
    "plt.ylabel('y')\n",
    "plt.show()"
   ]
  },
  {
   "cell_type": "markdown",
   "metadata": {},
   "source": [
    "### Choosing filters\n",
    "\n",
    "Gridrec can be filtered in order to smooth the reconstruction (filters were never implemented for FBP).\n",
    "\n",
    "Available filters:\n",
    "\n",
    "* Ramp\n",
    "* Shepp-Logan\n",
    "* Butterworth\n",
    "* Parzen\n",
    "* Cosine\n",
    "* Hamming"
   ]
  },
  {
   "cell_type": "code",
   "execution_count": null,
   "metadata": {},
   "outputs": [],
   "source": [
    "import numpy as np\n",
    "\n",
    "# low-pass Butterworth filter parameters\n",
    "cutoff = 0.5  # [0, 1]\n",
    "order = 2  # 0, 1, 2, 3, ...\n",
    "\n",
    "x = np.linspace(-1, 1, 128)\n",
    "y = 1 / (1 + np.power(x / cutoff, 2 * order))\n",
    "\n",
    "plt.figure()\n",
    "plt.plot(x, y)\n",
    "plt.axis('tight')\n",
    "plt.grid(True)\n",
    "plt.show()"
   ]
  },
  {
   "cell_type": "code",
   "execution_count": null,
   "metadata": {},
   "outputs": [],
   "source": [
    "rec['gridrec'] = tomopy.recon(\n",
    "    prj, ang, algorithm='gridrec', \n",
    "    num_gridx=128, num_gridy=128, \n",
    "    filter_name='butterworth', filter_par=[0.5, 2.],\n",
    ")"
   ]
  },
  {
   "cell_type": "code",
   "execution_count": null,
   "metadata": {},
   "outputs": [],
   "source": [
    "plt.figure()\n",
    "plt.imshow(rec['gridrec'][0])\n",
    "plt.xlabel('x')\n",
    "plt.ylabel('y')\n",
    "plt.show()"
   ]
  },
  {
   "cell_type": "markdown",
   "metadata": {},
   "source": [
    "## Iterative reconstrucrtion algorithms\n",
    "\n",
    "### Without penalization\n",
    "\n",
    "#### Kaczmarz methods:\n",
    "\n",
    "* Algebrais Reconstruction Technique (ART)\n",
    "* Simultaneous Iterative Reconstruction Technique (SIRT)\n",
    "* Block Algebraic Reconstruction (BART)"
   ]
  },
  {
   "cell_type": "code",
   "execution_count": null,
   "metadata": {},
   "outputs": [],
   "source": [
    "for algorithm in ['art', 'sirt', 'bart']:\n",
    "    rec[algorithm] = tomopy.recon(\n",
    "            prj, ang, algorithm=algorithm, \n",
    "            num_gridx=128, num_gridy=128,\n",
    "            num_iter=10, # these methods require iterations\n",
    "    )"
   ]
  },
  {
   "cell_type": "code",
   "execution_count": null,
   "metadata": {},
   "outputs": [],
   "source": [
    "plt.figure(figsize=(12, 4))\n",
    "plt.subplot(131)\n",
    "plt.imshow(rec['art'][0])\n",
    "plt.title('ART')\n",
    "plt.xlabel('x')\n",
    "plt.ylabel('y')\n",
    "plt.subplot(132)\n",
    "plt.imshow(rec['sirt'][0])\n",
    "plt.title('SIRT')\n",
    "plt.xlabel('x')\n",
    "plt.ylabel('y')\n",
    "plt.subplot(133)\n",
    "plt.imshow(rec['bart'][0])\n",
    "plt.title('BART')\n",
    "plt.xlabel('x')\n",
    "plt.ylabel('y')\n",
    "plt.show()"
   ]
  },
  {
   "cell_type": "markdown",
   "metadata": {
    "collapsed": true
   },
   "source": [
    "#### Expectation maximization algorithms:\n",
    "\n",
    "* Maximum-Likelihood Expectation-Maximization (MLEM)\n",
    "* Ordered Subset Expectation-Maximization (OSEM)"
   ]
  },
  {
   "cell_type": "code",
   "execution_count": null,
   "metadata": {},
   "outputs": [],
   "source": [
    "for algorithm in ['mlem', 'osem']:\n",
    "    rec[algorithm] = tomopy.recon(\n",
    "        prj, ang, algorithm=algorithm, \n",
    "        num_gridx=128, num_gridy=128,\n",
    "        num_iter=10\n",
    "    )"
   ]
  },
  {
   "cell_type": "code",
   "execution_count": null,
   "metadata": {},
   "outputs": [],
   "source": [
    "plt.figure(figsize=(12, 4))\n",
    "plt.subplot(131)\n",
    "plt.imshow(rec['mlem'][0])\n",
    "plt.title('MLEM')\n",
    "plt.xlabel('x')\n",
    "plt.ylabel('y')\n",
    "plt.subplot(132)\n",
    "plt.imshow(rec['osem'][0])\n",
    "plt.title('OSEM')\n",
    "plt.xlabel('x')\n",
    "plt.ylabel('y')\n",
    "plt.show()"
   ]
  },
  {
   "cell_type": "markdown",
   "metadata": {},
   "source": [
    "### With quadratic penalization\n",
    "\n",
    "#### Expectation maximization algorithms:\n",
    "\n",
    "* Penalized Maximum-Likelihood with Quadratic penalty (PML_QUAD)\n",
    "* Ordered Subset Penalized Maximum-Likelihood with Quadratic penalty (OSMPL_QUAD)"
   ]
  },
  {
   "cell_type": "code",
   "execution_count": null,
   "metadata": {},
   "outputs": [],
   "source": [
    "# PML_QUAD\n",
    "rec['pml_quad'] = tomopy.recon(prj, ang, algorithm='pml_quad', \n",
    "                   num_gridx=128, num_gridy=128,\n",
    "                   num_iter=20,\n",
    "                   reg_par=0.1)\n",
    "\n",
    "rec5 = tomopy.recon(prj, ang, algorithm='pml_quad', \n",
    "                   num_gridx=128, num_gridy=128,\n",
    "                   num_iter=20,\n",
    "                   reg_par=100)"
   ]
  },
  {
   "cell_type": "code",
   "execution_count": null,
   "metadata": {},
   "outputs": [],
   "source": [
    "plt.figure(figsize=(12, 4))\n",
    "plt.subplot(131)\n",
    "plt.imshow(rec['pml_quad'][0])\n",
    "plt.title('PML_QUAD, reg_par=0.1')\n",
    "plt.xlabel('x')\n",
    "plt.ylabel('y')\n",
    "plt.subplot(132)\n",
    "plt.imshow(rec5[0])\n",
    "plt.title('PML_QUAD, reg_par=100')\n",
    "plt.xlabel('x')\n",
    "plt.ylabel('y')\n",
    "plt.show()"
   ]
  },
  {
   "cell_type": "markdown",
   "metadata": {},
   "source": [
    "### With hybrid (mixed quadratic-linear) penalization\n",
    "\n",
    "#### Expectation maximization algorithms:\n",
    "\n",
    "* Penalized Maximum-Likelihood with Hybrid penalty (PML_HYBRID)\n",
    "* Ordered Subset Penalized Maximum-Likelihood with Hybrid penalty (OSMPL_QUAD)"
   ]
  },
  {
   "cell_type": "code",
   "execution_count": null,
   "metadata": {},
   "outputs": [],
   "source": [
    "# OSPML_HYBRID\n",
    "rec6 = tomopy.recon(prj, ang, algorithm='ospml_hybrid', \n",
    "                   num_gridx=128, num_gridy=128,\n",
    "                   num_iter=20,\n",
    "                   reg_par=[1, 0.1])\n",
    "\n",
    "rec7 = tomopy.recon(prj, ang, algorithm='ospml_hybrid', \n",
    "                   num_gridx=128, num_gridy=128,\n",
    "                   num_iter=20,\n",
    "                   reg_par=[0.1, 1],\n",
    "                   num_block=10)\n",
    "\n",
    "rec['ospml_hybrid'] = tomopy.recon(prj, ang, algorithm='ospml_hybrid', \n",
    "                   num_gridx=128, num_gridy=128,\n",
    "                   num_iter=20,\n",
    "                   reg_par=[0.1, 0.1],\n",
    "                   num_block=10)"
   ]
  },
  {
   "cell_type": "code",
   "execution_count": null,
   "metadata": {},
   "outputs": [],
   "source": [
    "plt.figure(figsize=(12, 4))\n",
    "plt.subplot(131)\n",
    "plt.imshow(rec6[0])\n",
    "plt.title('OSPML_HYBRID, reg_par=[1, 0.1]')\n",
    "plt.xlabel('x')\n",
    "plt.ylabel('y')\n",
    "plt.subplot(132)\n",
    "plt.imshow(rec7[0])\n",
    "plt.title('OSPML_HYBRID, reg_par=[0.1, 1]')\n",
    "plt.xlabel('x')\n",
    "plt.ylabel('y')\n",
    "plt.subplot(133)\n",
    "plt.imshow(rec['ospml_hybrid'][0])\n",
    "plt.title('OSPML_HYBRID, reg_par=[0.1, 0.1]')\n",
    "plt.xlabel('x')\n",
    "plt.ylabel('y')\n",
    "plt.show()"
   ]
  },
  {
   "cell_type": "markdown",
   "metadata": {},
   "source": [
    "# ACTIVITY: Initialization of iterative algorithms\n",
    "\n",
    "In the cell below, compare an iterative algorithm initalized with a constant value with one initialized with a direct inversion algorithm. "
   ]
  },
  {
   "cell_type": "code",
   "execution_count": null,
   "metadata": {},
   "outputs": [],
   "source": [
    "direct = [[[0]]]\n",
    "initialized_constant = [[[0]]]\n",
    "initialized_direct = [[[0]]]"
   ]
  },
  {
   "cell_type": "code",
   "execution_count": null,
   "metadata": {},
   "outputs": [],
   "source": [
    "plt.figure(figsize=(12, 4))\n",
    "plt.subplot(131)\n",
    "plt.imshow(direct[0])\n",
    "plt.title('Direct method')\n",
    "plt.xlabel('x')\n",
    "plt.ylabel('y')\n",
    "plt.subplot(132)\n",
    "plt.imshow(initialized_constant[0])\n",
    "plt.title('Initiated with constant vals.')\n",
    "plt.xlabel('x')\n",
    "plt.subplot(133)\n",
    "plt.ylabel('y')\n",
    "plt.imshow(initialized_direct[0])\n",
    "plt.title('Initiated with direct method')\n",
    "plt.xlabel('x')\n",
    "plt.ylabel('y')\n",
    "plt.show()"
   ]
  },
  {
   "cell_type": "code",
   "execution_count": null,
   "metadata": {},
   "outputs": [],
   "source": []
  }
 ],
 "metadata": {
  "kernelspec": {
   "display_name": "Python 3",
   "language": "python",
   "name": "python3"
  },
  "language_info": {
   "codemirror_mode": {
    "name": "ipython",
    "version": 3
   },
   "file_extension": ".py",
   "mimetype": "text/x-python",
   "name": "python",
   "nbconvert_exporter": "python",
   "pygments_lexer": "ipython3",
   "version": "3.6.7"
  }
 },
 "nbformat": 4,
 "nbformat_minor": 1
}
