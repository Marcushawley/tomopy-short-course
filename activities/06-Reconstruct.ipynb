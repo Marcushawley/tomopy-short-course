{
 "cells": [
  {
   "cell_type": "markdown",
   "metadata": {},
   "source": [
    "# Data import\n",
    "\n",
    "Common tomography data formats are imported through [DXchange](http://dxchange.readthedocs.org/en/latest/source/api/dxchange.exchange.html) (available through Conda):\n"
   ]
  },
  {
   "cell_type": "code",
   "execution_count": null,
   "metadata": {},
   "outputs": [],
   "source": [
    "import dxchange as dx"
   ]
  },
  {
   "cell_type": "code",
   "execution_count": null,
   "metadata": {},
   "outputs": [],
   "source": [
    "prj, flat, dark, ang = dx.read_aps_32id('data/data-simulated.h5')"
   ]
  },
  {
   "cell_type": "markdown",
   "metadata": {},
   "source": [
    "# Tomographic image reconstruction\n",
    "\n",
    "## Direct reconstruction algorithms\n",
    "\n",
    "* Filtered-Backprojection with interpolation on Fourier space (Gridrec)\n",
    "* Filtered-Backprojection with interpolation on real space (FBP)"
   ]
  },
  {
   "cell_type": "code",
   "execution_count": null,
   "metadata": {},
   "outputs": [],
   "source": [
    "import tomopy\n",
    "import matplotlib.pyplot as plt\n",
    "\n",
    "SMALL_SIZE = 8\n",
    "MEDIUM_SIZE = 8\n",
    "BIGGER_SIZE = 10\n",
    "\n",
    "plt.rc('font', size=SMALL_SIZE)          # controls default text sizes\n",
    "plt.rc('axes', titlesize=SMALL_SIZE)     # fontsize of the axes title\n",
    "plt.rc('axes', labelsize=SMALL_SIZE)    # fontsize of the x and y labels\n",
    "plt.rc('xtick', labelsize=SMALL_SIZE)    # fontsize of the tick labels\n",
    "plt.rc('ytick', labelsize=SMALL_SIZE)    # fontsize of the tick labels\n",
    "plt.rc('legend', fontsize=SMALL_SIZE)    # legend fontsize\n",
    "plt.rc('figure', titlesize=BIGGER_SIZE)  # fontsize of the figure title\n",
    "plt.rc('font', family='Times New Roman')\n",
    "plt.rcParams[\"mathtext.fontset\"] = 'stix'\n",
    "\n",
    "rec = dict()  # Store all of the different reconstructions here"
   ]
  },
  {
   "cell_type": "code",
   "execution_count": null,
   "metadata": {},
   "outputs": [],
   "source": [
    "rec['gridrec'] = tomopy.recon(prj, ang, algorithm='gridrec')"
   ]
  },
  {
   "cell_type": "code",
   "execution_count": null,
   "metadata": {},
   "outputs": [],
   "source": [
    "plt.figure(dpi=150)\n",
    "plt.imshow(rec['gridrec'][0], cmap='gray', interpolation='none')\n",
    "plt.xlabel('x')\n",
    "plt.ylabel('y')\n",
    "plt.show()"
   ]
  },
  {
   "cell_type": "markdown",
   "metadata": {},
   "source": [
    "One can define the shape of the final image reconstruction:"
   ]
  },
  {
   "cell_type": "code",
   "execution_count": null,
   "metadata": {},
   "outputs": [],
   "source": [
    "rec['gridrec'] = tomopy.recon(prj, ang, algorithm='gridrec', num_gridx=128, num_gridy=128)"
   ]
  },
  {
   "cell_type": "code",
   "execution_count": null,
   "metadata": {},
   "outputs": [],
   "source": [
    "plt.figure(dpi=150)\n",
    "plt.imshow(rec['gridrec'][0], cmap='gray', interpolation='none')\n",
    "plt.xlabel('Detector Pixels (translation)')\n",
    "plt.ylabel('Rotation angles (rotation)')\n",
    "plt.show()"
   ]
  },
  {
   "cell_type": "markdown",
   "metadata": {},
   "source": [
    "### Choosing filters\n",
    "\n",
    "Available filters:\n",
    "\n",
    "* Ramp\n",
    "* Shepp-Logan\n",
    "* Butterworth\n",
    "* Parzen\n",
    "* Cosine\n",
    "* Hamming"
   ]
  },
  {
   "cell_type": "code",
   "execution_count": null,
   "metadata": {},
   "outputs": [],
   "source": [
    "import numpy as np\n",
    "\n",
    "# low-pass Butterworth filter parameters\n",
    "cutoff = 0.5  # [0, 1]\n",
    "order = 2  # 0, 1, 2, 3, ...\n",
    "\n",
    "x = np.linspace(-1, 1, 128)\n",
    "y = 1 / (1 + np.power(x / cutoff, 2 * order))\n",
    "\n",
    "plt.figure()\n",
    "plt.plot(x, y)\n",
    "plt.axis('tight')\n",
    "plt.grid('on')\n",
    "plt.show()"
   ]
  },
  {
   "cell_type": "code",
   "execution_count": null,
   "metadata": {},
   "outputs": [],
   "source": [
    "rec['gridrec'] = tomopy.recon(\n",
    "    prj, ang, algorithm='gridrec', \n",
    "    num_gridx=128, num_gridy=128, \n",
    "    filter_name='butterworth', filter_par=[0.5, 2.],\n",
    ")"
   ]
  },
  {
   "cell_type": "code",
   "execution_count": null,
   "metadata": {},
   "outputs": [],
   "source": [
    "plt.figure(dpi=150)\n",
    "plt.imshow(rec['gridrec'][0], cmap='gray', interpolation='none')\n",
    "plt.xlabel('Detector Pixels (translation)')\n",
    "plt.ylabel('Rotation angles (rotation)')\n",
    "plt.show()"
   ]
  },
  {
   "cell_type": "markdown",
   "metadata": {},
   "source": [
    "## Iterative reconstrucrtion algorithms\n",
    "\n",
    "### Without penalization\n",
    "\n",
    "#### Kaczmarz methods:\n",
    "\n",
    "* Algebrais Reconstruction Technique (ART)\n",
    "* Simultaneous Iterative Reconstruction Technique (SIRT)\n",
    "* Block Algebraic Reconstruction (BART)"
   ]
  },
  {
   "cell_type": "code",
   "execution_count": null,
   "metadata": {},
   "outputs": [],
   "source": [
    "for algorithm in ['art', 'sirt', 'bart']:\n",
    "    rec[algorithm] = tomopy.recon(\n",
    "            prj, ang, algorithm=algorithm, \n",
    "            num_gridx=128, num_gridy=128,\n",
    "            num_iter=10\n",
    "    )"
   ]
  },
  {
   "cell_type": "code",
   "execution_count": null,
   "metadata": {},
   "outputs": [],
   "source": [
    "plt.figure(dpi=150, tight_layout=True)\n",
    "plt.subplot(131)\n",
    "plt.imshow(rec['art'][0], cmap='gray', interpolation='none')\n",
    "plt.title('ART')\n",
    "plt.xlabel('x')\n",
    "plt.ylabel('y')\n",
    "plt.subplot(132)\n",
    "plt.imshow(rec['sirt'][0], cmap='gray', interpolation='none')\n",
    "plt.title('SIRT')\n",
    "plt.xlabel('x')\n",
    "plt.ylabel('y')\n",
    "plt.subplot(133)\n",
    "plt.imshow(rec['bart'][0], cmap='gray', interpolation='none')\n",
    "plt.title('BART')\n",
    "plt.xlabel('x')\n",
    "plt.ylabel('y')\n",
    "plt.show()"
   ]
  },
  {
   "cell_type": "markdown",
   "metadata": {
    "collapsed": true
   },
   "source": [
    "#### Expectation maximization algorithms:\n",
    "\n",
    "* Maximum-Likelihood Expectation-Maximization (MLEM)\n",
    "* Ordered Subset Expectation-Maximization (OSEM)"
   ]
  },
  {
   "cell_type": "code",
   "execution_count": null,
   "metadata": {},
   "outputs": [],
   "source": [
    "for algorithm in ['mlem', 'osem']:\n",
    "    rec[algorithm] = tomopy.recon(\n",
    "        prj, ang, algorithm=algorithm, \n",
    "        num_gridx=128, num_gridy=128,\n",
    "        num_iter=10\n",
    "    )"
   ]
  },
  {
   "cell_type": "code",
   "execution_count": null,
   "metadata": {},
   "outputs": [],
   "source": [
    "plt.figure(dpi=150, tight_layout=True)\n",
    "plt.subplot(131)\n",
    "plt.imshow(rec['mlem'][0], cmap='gray', interpolation='none')\n",
    "plt.title('MLEM')\n",
    "plt.xlabel('x')\n",
    "plt.ylabel('y')\n",
    "plt.subplot(132)\n",
    "plt.imshow(rec['osem'][0], cmap='gray', interpolation='none')\n",
    "plt.title('OSEM')\n",
    "plt.xlabel('x')\n",
    "plt.ylabel('y')\n",
    "plt.show()"
   ]
  },
  {
   "cell_type": "markdown",
   "metadata": {},
   "source": [
    "### With quadratic penalization\n",
    "\n",
    "#### Expectation maximization algorithms:\n",
    "\n",
    "* Penalized Maximum-Likelihood with Quadratic penalty (PML_QUAD)\n",
    "* Ordered Subset Penalized Maximum-Likelihood with Quadratic penalty (OSMPL_QUAD)"
   ]
  },
  {
   "cell_type": "code",
   "execution_count": null,
   "metadata": {},
   "outputs": [],
   "source": [
    "# PML_QUAD\n",
    "rec4 = tomopy.recon(prj, ang, algorithm='pml_quad', \n",
    "                   num_gridx=128, num_gridy=128,\n",
    "                   num_iter=20,\n",
    "                   reg_par=0.1)\n",
    "\n",
    "rec5 = tomopy.recon(prj, ang, algorithm='pml_quad', \n",
    "                   num_gridx=128, num_gridy=128,\n",
    "                   num_iter=20,\n",
    "                   reg_par=100)"
   ]
  },
  {
   "cell_type": "code",
   "execution_count": null,
   "metadata": {},
   "outputs": [],
   "source": [
    "plt.figure(dpi=150, tight_layout=True)\n",
    "plt.subplot(131)\n",
    "plt.imshow(rec4[0], cmap='gray', interpolation='none')\n",
    "plt.title('PML_QUAD, reg_par=0.1')\n",
    "plt.xlabel('x')\n",
    "plt.ylabel('y')\n",
    "plt.subplot(132)\n",
    "plt.imshow(rec5[0], cmap='gray', interpolation='none')\n",
    "plt.title('PML_QUAD, reg_par=100')\n",
    "plt.xlabel('x')\n",
    "plt.ylabel('y')\n",
    "plt.show()"
   ]
  },
  {
   "cell_type": "markdown",
   "metadata": {},
   "source": [
    "### With hybrid (mixed quadratic-linear) penalization\n",
    "\n",
    "#### Expectation maximization algorithms:\n",
    "\n",
    "* Penalized Maximum-Likelihood with Hybrid penalty (PML_HYBRID)\n",
    "* Ordered Subset Penalized Maximum-Likelihood with Hybrid penalty (OSMPL_QUAD)"
   ]
  },
  {
   "cell_type": "code",
   "execution_count": null,
   "metadata": {},
   "outputs": [],
   "source": [
    "# OSPML_HYBRID\n",
    "rec4 = tomopy.recon(prj, ang, algorithm='ospml_hybrid', \n",
    "                   num_gridx=128, num_gridy=128,\n",
    "                   num_iter=20,\n",
    "                   reg_par=[1, 0.1])\n",
    "\n",
    "rec5 = tomopy.recon(prj, ang, algorithm='ospml_hybrid', \n",
    "                   num_gridx=128, num_gridy=128,\n",
    "                   num_iter=20,\n",
    "                   reg_par=[0.1, 1],\n",
    "                   num_block=10)\n",
    "\n",
    "rec6 = tomopy.recon(prj, ang, algorithm='ospml_hybrid', \n",
    "                   num_gridx=128, num_gridy=128,\n",
    "                   num_iter=20,\n",
    "                   reg_par=[0.1, 0.1],\n",
    "                   num_block=10)"
   ]
  },
  {
   "cell_type": "code",
   "execution_count": null,
   "metadata": {},
   "outputs": [],
   "source": [
    "plt.figure(dpi=150, tight_layout=True)\n",
    "plt.subplot(131)\n",
    "plt.imshow(rec4[0], cmap='gray', interpolation='none')\n",
    "plt.title('OSPML_HYBRID, reg_par=[1, 0.1]')\n",
    "plt.xlabel('x')\n",
    "plt.ylabel('y')\n",
    "plt.subplot(132)\n",
    "plt.imshow(rec5[0], cmap='gray', interpolation='none')\n",
    "plt.title('OSPML_HYBRID, reg_par=[0.1, 1]')\n",
    "plt.xlabel('x')\n",
    "plt.ylabel('y')\n",
    "plt.subplot(133)\n",
    "plt.imshow(rec6[0], cmap='gray', interpolation='none')\n",
    "plt.title('OSPML_HYBRID, reg_par=[0.1, 0.1]')\n",
    "plt.xlabel('x')\n",
    "plt.ylabel('y')\n",
    "plt.show()"
   ]
  },
  {
   "cell_type": "markdown",
   "metadata": {},
   "source": [
    "#### Initialization of iterative algorithms"
   ]
  },
  {
   "cell_type": "code",
   "execution_count": null,
   "metadata": {},
   "outputs": [],
   "source": [
    "rec0 = tomopy.recon(prj, ang, algorithm='gridrec', \n",
    "                    num_gridx=128, num_gridy=128)\n",
    "\n",
    "rec7 = tomopy.recon(prj, ang, algorithm='ospml_hybrid', \n",
    "                    num_gridx=128, num_gridy=128,\n",
    "                    num_iter=1,\n",
    "                    reg_par=[0.1, 0.1],\n",
    "                    num_block=50)\n",
    "\n",
    "rec8 = tomopy.recon(prj, ang, algorithm='ospml_hybrid', \n",
    "                    num_gridx=128, num_gridy=128,\n",
    "                    num_iter=1,\n",
    "                    reg_par=[0.1, 0.1],\n",
    "                    num_block=50,\n",
    "                    init_recon=np.abs(rec0.copy()))"
   ]
  },
  {
   "cell_type": "code",
   "execution_count": null,
   "metadata": {},
   "outputs": [],
   "source": [
    "plt.figure(dpi=150, tight_layout=True)\n",
    "plt.subplot(131)\n",
    "plt.imshow(rec0[0], cmap='gray', interpolation='none')\n",
    "plt.title('FBP')\n",
    "plt.xlabel('x')\n",
    "plt.ylabel('y')\n",
    "plt.subplot(132)\n",
    "plt.imshow(rec7[0], cmap='gray', interpolation='none')\n",
    "plt.title('Initiated with constant vals.')\n",
    "plt.xlabel('x')\n",
    "plt.subplot(133)\n",
    "plt.ylabel('y')\n",
    "plt.imshow(rec8[0], cmap='gray', interpolation='none')\n",
    "plt.title('Initiated with FBP')\n",
    "plt.xlabel('x')\n",
    "plt.ylabel('y')\n",
    "plt.show()"
   ]
  },
  {
   "cell_type": "code",
   "execution_count": null,
   "metadata": {},
   "outputs": [],
   "source": []
  }
 ],
 "metadata": {
  "kernelspec": {
   "display_name": "Python [conda env:tomopy]",
   "language": "python",
   "name": "conda-env-tomopy-py"
  },
  "language_info": {
   "codemirror_mode": {
    "name": "ipython",
    "version": 3
   },
   "file_extension": ".py",
   "mimetype": "text/x-python",
   "name": "python",
   "nbconvert_exporter": "python",
   "pygments_lexer": "ipython3",
   "version": "3.7.3"
  }
 },
 "nbformat": 4,
 "nbformat_minor": 1
}
