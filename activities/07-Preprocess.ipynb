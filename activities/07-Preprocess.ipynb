{
 "cells": [
  {
   "cell_type": "code",
   "execution_count": null,
   "metadata": {},
   "outputs": [],
   "source": [
    "import tomopy\n",
    "import matplotlib.pyplot as plt\n",
    "\n",
    "SMALL_SIZE = 8\n",
    "MEDIUM_SIZE = 8\n",
    "BIGGER_SIZE = 10\n",
    "\n",
    "plt.rc('font', size=SMALL_SIZE)          # controls default text sizes\n",
    "plt.rc('axes', titlesize=SMALL_SIZE)     # fontsize of the axes title\n",
    "plt.rc('axes', labelsize=SMALL_SIZE)    # fontsize of the x and y labels\n",
    "plt.rc('xtick', labelsize=SMALL_SIZE)    # fontsize of the tick labels\n",
    "plt.rc('ytick', labelsize=SMALL_SIZE)    # fontsize of the tick labels\n",
    "plt.rc('legend', fontsize=SMALL_SIZE)    # legend fontsize\n",
    "plt.rc('figure', titlesize=BIGGER_SIZE)  # fontsize of the figure title\n",
    "plt.rc('font', family='Times New Roman')\n",
    "plt.rcParams[\"mathtext.fontset\"] = 'stix'\n",
    "\n",
    "rec = dict()  # Store all of the different reconstructions here"
   ]
  },
  {
   "cell_type": "markdown",
   "metadata": {},
   "source": [
    "# Data import\n",
    "\n",
    "Common tomography data formats are imported through [DXchange](http://dxchange.readthedocs.org/en/latest/source/api/dxchange.exchange.html) (available through Conda):\n"
   ]
  },
  {
   "cell_type": "code",
   "execution_count": null,
   "metadata": {},
   "outputs": [],
   "source": [
    "import dxchange as dx"
   ]
  },
  {
   "cell_type": "code",
   "execution_count": null,
   "metadata": {},
   "outputs": [],
   "source": [
    "prj, flat, dark, ang = dx.read_aps_32id('data/data-simulated.h5')"
   ]
  },
  {
   "cell_type": "code",
   "execution_count": null,
   "metadata": {},
   "outputs": [],
   "source": [
    "rec = dict()\n",
    "rec['before'] = tomopy.recon(prj, ang, algorithm='gridrec', num_gridx=128, num_gridy=128)"
   ]
  },
  {
   "cell_type": "markdown",
   "metadata": {},
   "source": [
    "# Poisson Noise Removal"
   ]
  },
  {
   "cell_type": "code",
   "execution_count": null,
   "metadata": {},
   "outputs": [],
   "source": [
    "z = 1  # slice that has the poisson noise\n",
    "prj_corrected = tomopy.median_filter(prj, axis=0)"
   ]
  },
  {
   "cell_type": "code",
   "execution_count": null,
   "metadata": {},
   "outputs": [],
   "source": [
    "plt.figure(dpi=150)\n",
    "plt.subplot(1, 2, 1)\n",
    "plt.title('before')\n",
    "plt.imshow(prj[:, z, :])\n",
    "plt.subplot(1, 2, 2)\n",
    "plt.title('after')\n",
    "plt.imshow(prj_corrected[:, z, :])\n",
    "plt.show()"
   ]
  },
  {
   "cell_type": "code",
   "execution_count": null,
   "metadata": {},
   "outputs": [],
   "source": [
    "rec['after'] = tomopy.recon(prj_corrected, ang, algorithm='gridrec', num_gridx=128, num_gridy=128)"
   ]
  },
  {
   "cell_type": "code",
   "execution_count": null,
   "metadata": {},
   "outputs": [],
   "source": [
    "plt.figure(dpi=150)\n",
    "plt.subplot(1, 2, 1)\n",
    "plt.title('before')\n",
    "plt.imshow(rec['before'][z], cmap='gray', interpolation='none')\n",
    "plt.subplot(1, 2, 2)\n",
    "plt.title('after')\n",
    "plt.imshow(rec['after'][z], cmap='gray', interpolation='none')\n",
    "plt.show()"
   ]
  },
  {
   "cell_type": "markdown",
   "metadata": {},
   "source": [
    "# Zingers"
   ]
  },
  {
   "cell_type": "code",
   "execution_count": null,
   "metadata": {},
   "outputs": [],
   "source": [
    "z = 2  # slice that has the zingers\n",
    "prj_corrected = tomopy.median_filter(prj, axis=1)"
   ]
  },
  {
   "cell_type": "code",
   "execution_count": null,
   "metadata": {},
   "outputs": [],
   "source": [
    "plt.figure(dpi=150)\n",
    "plt.subplot(1, 2, 1)\n",
    "plt.title('before')\n",
    "plt.imshow(prj[:, z, :])\n",
    "plt.subplot(1, 2, 2)\n",
    "plt.title('after')\n",
    "plt.imshow(prj_corrected[:, z, :])\n",
    "plt.show()"
   ]
  },
  {
   "cell_type": "code",
   "execution_count": null,
   "metadata": {},
   "outputs": [],
   "source": [
    "rec['after'] = tomopy.recon(prj_corrected, ang, algorithm='gridrec', num_gridx=128, num_gridy=128)"
   ]
  },
  {
   "cell_type": "code",
   "execution_count": null,
   "metadata": {},
   "outputs": [],
   "source": [
    "plt.figure(dpi=150)\n",
    "plt.subplot(1, 2, 1)\n",
    "plt.title('before')\n",
    "plt.imshow(rec['before'][z], cmap='gray', interpolation='none')\n",
    "plt.subplot(1, 2, 2)\n",
    "plt.title('after')\n",
    "plt.imshow(rec['after'][z], cmap='gray', interpolation='none')\n",
    "plt.show()"
   ]
  },
  {
   "cell_type": "markdown",
   "metadata": {},
   "source": [
    "# Ring Removal"
   ]
  },
  {
   "cell_type": "code",
   "execution_count": null,
   "metadata": {},
   "outputs": [],
   "source": [
    "z = 3  # slice that has the rings\n",
    "prj_corrected = tomopy.remove_stripe_based_filtering(prj)"
   ]
  },
  {
   "cell_type": "code",
   "execution_count": null,
   "metadata": {},
   "outputs": [],
   "source": [
    "plt.figure(dpi=150)\n",
    "plt.subplot(1, 2, 1)\n",
    "plt.title('before')\n",
    "plt.imshow(prj[:, z, :])\n",
    "plt.subplot(1, 2, 2)\n",
    "plt.title('after')\n",
    "plt.imshow(prj_corrected[:, z, :])\n",
    "plt.show()"
   ]
  },
  {
   "cell_type": "code",
   "execution_count": null,
   "metadata": {},
   "outputs": [],
   "source": [
    "rec['after'] = tomopy.recon(prj_corrected, ang, algorithm='gridrec', num_gridx=128, num_gridy=128)"
   ]
  },
  {
   "cell_type": "code",
   "execution_count": null,
   "metadata": {},
   "outputs": [],
   "source": [
    "plt.figure(dpi=150)\n",
    "plt.subplot(1, 2, 1)\n",
    "plt.title('before')\n",
    "plt.imshow(rec['before'][z], cmap='gray', interpolation='none')\n",
    "plt.subplot(1, 2, 2)\n",
    "plt.title('after')\n",
    "plt.imshow(rec['after'][z], cmap='gray', interpolation='none')\n",
    "plt.show()"
   ]
  }
 ],
 "metadata": {
  "kernelspec": {
   "display_name": "Python [conda env:tomopy]",
   "language": "python",
   "name": "conda-env-tomopy-py"
  },
  "language_info": {
   "codemirror_mode": {
    "name": "ipython",
    "version": 3
   },
   "file_extension": ".py",
   "mimetype": "text/x-python",
   "name": "python",
   "nbconvert_exporter": "python",
   "pygments_lexer": "ipython3",
   "version": "3.7.3"
  }
 },
 "nbformat": 4,
 "nbformat_minor": 1
}
